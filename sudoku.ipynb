{
 "cells": [
  {
   "cell_type": "code",
   "execution_count": 1,
   "metadata": {
    "collapsed": false
   },
   "outputs": [
    {
     "data": {
      "text/plain": [
       "[1, -2, -3, -4, 5]"
      ]
     },
     "execution_count": 1,
     "metadata": {},
     "output_type": "execute_result"
    }
   ],
   "source": [
    "import sys\n",
    "from cStringIO import StringIO\n",
    "import pycosat\n",
    "\n",
    "cnf = [[1, -5, 4], [-1, 5, 3, 4], [-3, -4]]\n",
    "\n",
    "pycosat.solve(cnf)"
   ]
  },
  {
   "cell_type": "code",
   "execution_count": 4,
   "metadata": {
    "collapsed": false
   },
   "outputs": [],
   "source": [
    "\n",
    "\n",
    "\n",
    "\n",
    "\"\"\"\n",
    "The implementation of this Sudoku solver is based on the paper:\n",
    "\n",
    "    \"A SAT-based Sudoku solver\" by Tjark Weber\n",
    "\n",
    "    https://www.lri.fr/~conchon/mpri/weber.pdf\n",
    "\n",
    "If you want to understand the code below, in particular the function valid(),\n",
    "which calculates the 324 clauses corresponding to 9 cells, you are strongly\n",
    "encouraged to read the paper first.  The paper is very short, but contains\n",
    "all necessary information.\n",
    "\"\"\"\n",
    "import pycosat\n",
    "\n",
    "\n",
    "def v(i, j, d):\n",
    "    \"\"\"\n",
    "    Return the number of the variable of cell i, j and digit d,\n",
    "    which is an integer in the range of 1 to 729 (including).\n",
    "    \"\"\"\n",
    "    return 81 * (i - 1) + 9 * (j - 1) + d\n",
    "\n",
    "\n",
    "def sudoku_clauses():\n",
    "    \"\"\"\n",
    "    Create the (11745) Sudoku clauses, and return them as a list.\n",
    "    Note that these clauses are *independent* of the particular\n",
    "    Sudoku puzzle at hand.\n",
    "    \"\"\"\n",
    "    res = []\n",
    "    # for all cells, ensure that the each cell:\n",
    "    for i in range(1, 10):\n",
    "        for j in range(1, 10):\n",
    "            # denotes (at least) one of the 9 digits (1 clause)\n",
    "            res.append([v(i, j, d) for d in range(1, 10)])\n",
    "            # does not denote two different digits at once (36 clauses)\n",
    "            for d in range(1, 10):\n",
    "                for dp in range(d + 1, 10):\n",
    "                    res.append([-v(i, j, d), -v(i, j, dp)])\n",
    "\n",
    "    def valid(cells):\n",
    "        # Append 324 clauses, corresponding to 9 cells, to the result.\n",
    "        # The 9 cells are represented by a list tuples.  The new clauses\n",
    "        # ensure that the cells contain distinct values.\n",
    "        for i, xi in enumerate(cells):\n",
    "            for j, xj in enumerate(cells):\n",
    "                if i < j:\n",
    "                    for d in range(1, 10):\n",
    "                        res.append([-v(xi[0], xi[1], d), -v(xj[0], xj[1], d)])\n",
    "\n",
    "    # ensure rows and columns have distinct values\n",
    "    for i in range(1, 10):\n",
    "        valid([(i, j) for j in range(1, 10)])\n",
    "        valid([(j, i) for j in range(1, 10)])\n",
    "    # ensure 3x3 sub-grids \"regions\" have distinct values\n",
    "    for i in 1, 4, 7:\n",
    "        for j in 1, 4 ,7:\n",
    "            valid([(i + k % 3, j + k // 3) for k in range(9)])\n",
    "\n",
    "    assert len(res) == 81 * (1 + 36) + 27 * 324\n",
    "    return res\n",
    "\n",
    "\n",
    "def solve(grid):\n",
    "    \"\"\"\n",
    "    solve a Sudoku grid inplace\n",
    "    \"\"\"\n",
    "    clauses = sudoku_clauses()\n",
    "    for i in range(1, 10):\n",
    "        for j in range(1, 10):\n",
    "            d = grid[i - 1][j - 1]\n",
    "            # For each digit already known, a clause (with one literal).\n",
    "            # Note:\n",
    "            #     We could also remove all variables for the known cells\n",
    "            #     altogether (which would be more efficient).  However, for\n",
    "            #     the sake of simplicity, we decided not to do that.\n",
    "            if d:\n",
    "                clauses.append([v(i, j, d)])\n",
    "\n",
    "    # solve the SAT problem\n",
    "    # verbose = 1 --> see statistics (@ terminal, TBD: get statistics in python)\n",
    "    \n",
    "    sol = set(pycosat.solve(clauses, verbose = 1))\n",
    "    \n",
    "    def read_cell(i, j):\n",
    "        # return the digit of cell i, j according to the solution\n",
    "        for d in range(1, 10):\n",
    "            if v(i, j, d) in sol:\n",
    "                return d\n",
    "\n",
    "    for i in range(1, 10):\n",
    "        for j in range(1, 10):\n",
    "            grid[i - 1][j - 1] = read_cell(i, j)\n",
    "            \n",
    "    return clauses"
   ]
  },
  {
   "cell_type": "code",
   "execution_count": 6,
   "metadata": {
    "collapsed": false
   },
   "outputs": [
    {
     "name": "stdout",
     "output_type": "stream",
     "text": [
      "[[1, 2, 6, 4, 3, 7, 9, 5, 8],\n",
      " [8, 9, 5, 6, 2, 1, 4, 7, 3],\n",
      " [3, 7, 4, 9, 8, 5, 1, 2, 6],\n",
      " [4, 5, 7, 1, 9, 3, 8, 6, 2],\n",
      " [9, 8, 3, 2, 4, 6, 5, 1, 7],\n",
      " [6, 1, 2, 5, 7, 8, 3, 9, 4],\n",
      " [2, 6, 9, 3, 1, 4, 7, 8, 5],\n",
      " [5, 4, 8, 7, 6, 9, 2, 3, 1],\n",
      " [7, 3, 1, 8, 5, 2, 6, 4, 9]]\n"
     ]
    }
   ],
   "source": [
    "from pprint import pprint\n",
    "\n",
    "# hard Sudoku problem, see Fig. 3 in paper by Weber\n",
    "hard = [[0, 2, 0, 0, 0, 0, 0, 0, 0],\n",
    "        [0, 0, 0, 6, 0, 0, 0, 0, 3],\n",
    "        [0, 7, 4, 0, 8, 0, 0, 0, 0],\n",
    "        [0, 0, 0, 0, 0, 3, 0, 0, 2],\n",
    "        [0, 8, 0, 0, 4, 0, 0, 1, 0],\n",
    "        [6, 0, 0, 5, 0, 0, 0, 0, 0],\n",
    "        [0, 0, 0, 0, 1, 0, 7, 8, 0],\n",
    "        [5, 0, 0, 0, 0, 9, 0, 0, 0],\n",
    "        [0, 0, 0, 0, 0, 0, 0, 4, 0]]\n",
    "\n",
    "solve(hard)\n",
    "pprint(hard)"
   ]
  },
  {
   "cell_type": "code",
   "execution_count": null,
   "metadata": {
    "collapsed": true
   },
   "outputs": [],
   "source": []
  }
 ],
 "metadata": {
  "anaconda-cloud": {},
  "kernelspec": {
   "display_name": "Python [conda root]",
   "language": "python",
   "name": "conda-root-py"
  },
  "language_info": {
   "codemirror_mode": {
    "name": "ipython",
    "version": 2
   },
   "file_extension": ".py",
   "mimetype": "text/x-python",
   "name": "python",
   "nbconvert_exporter": "python",
   "pygments_lexer": "ipython2",
   "version": "2.7.12"
  }
 },
 "nbformat": 4,
 "nbformat_minor": 1
}
